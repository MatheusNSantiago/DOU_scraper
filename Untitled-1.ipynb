{
 "cells": [
  {
   "cell_type": "code",
   "execution_count": 1,
   "metadata": {},
   "outputs": [],
   "source": [
    "import pandas as pd\n",
    "import os\n",
    "from src.load_data import extract_publicacoes_from_zip"
   ]
  },
  {
   "cell_type": "code",
   "execution_count": 2,
   "metadata": {},
   "outputs": [],
   "source": [
    "all_publicacoes = []\n",
    "\n",
    "for zip_path in os.listdir(\"zips\"):\n",
    "    zip_path = f\"zips/{zip_path}\"\n",
    "    publicacoes = extract_publicacoes_from_zip(zip_path)\n",
    "\n",
    "    all_publicacoes.extend(publicacoes)\n",
    "\n",
    "# faz um dataframe com todas as publicações do dia\n",
    "df = pd.DataFrame(all_publicacoes)"
   ]
  },
  {
   "cell_type": "code",
   "execution_count": 10,
   "metadata": {},
   "outputs": [
    {
     "data": {
      "text/html": [
       "<div>\n",
       "<style scoped>\n",
       "    .dataframe tbody tr th:only-of-type {\n",
       "        vertical-align: middle;\n",
       "    }\n",
       "\n",
       "    .dataframe tbody tr th {\n",
       "        vertical-align: top;\n",
       "    }\n",
       "\n",
       "    .dataframe thead th {\n",
       "        text-align: right;\n",
       "    }\n",
       "</style>\n",
       "<table border=\"1\" class=\"dataframe\">\n",
       "  <thead>\n",
       "    <tr style=\"text-align: right;\">\n",
       "      <th></th>\n",
       "      <th>id</th>\n",
       "      <th>secao</th>\n",
       "      <th>tipo_normativo</th>\n",
       "      <th>data</th>\n",
       "      <th>escopo</th>\n",
       "      <th>titulo</th>\n",
       "      <th>ementa</th>\n",
       "      <th>conteudo</th>\n",
       "    </tr>\n",
       "  </thead>\n",
       "  <tbody>\n",
       "    <tr>\n",
       "      <th>0</th>\n",
       "      <td>21692637</td>\n",
       "      <td>DO2E</td>\n",
       "      <td>Portaria</td>\n",
       "      <td>2021-09-14</td>\n",
       "      <td>Ministério da Saúde/Agência Nacional de Saúde ...</td>\n",
       "      <td>PORTARIA DE PESSOAL Nº 251, DE 13 DE SETEMBRO...</td>\n",
       "      <td>None</td>\n",
       "      <td>&lt;p class=\"identifica\"&gt;PORTARIA DE PESSOAL Nº 2...</td>\n",
       "    </tr>\n",
       "  </tbody>\n",
       "</table>\n",
       "</div>"
      ],
      "text/plain": [
       "         id secao tipo_normativo       data  \\\n",
       "0  21692637  DO2E       Portaria 2021-09-14   \n",
       "\n",
       "                                              escopo  \\\n",
       "0  Ministério da Saúde/Agência Nacional de Saúde ...   \n",
       "\n",
       "                                              titulo ementa  \\\n",
       "0   PORTARIA DE PESSOAL Nº 251, DE 13 DE SETEMBRO...   None   \n",
       "\n",
       "                                            conteudo  \n",
       "0  <p class=\"identifica\">PORTARIA DE PESSOAL Nº 2...  "
      ]
     },
     "execution_count": 10,
     "metadata": {},
     "output_type": "execute_result"
    }
   ],
   "source": [
    "# df[\"data\"] =  pd.to_datetime(df.data)\n",
    "# df[df.ementa.isnull() & df.titulo.isnull() ]\n",
    "# df = df.set_index(df.data)\n",
    "# df = df.sort_index()\n",
    "\n",
    "# df[df.data == df.data.min()]\n"
   ]
  }
 ],
 "metadata": {
  "interpreter": {
   "hash": "78271c52030d80533eba1dd6ee0c092f9cb4898526a0326067ba9e5cca273b6a"
  },
  "kernelspec": {
   "display_name": "Python 3.9.7 64-bit ('.venv': venv)",
   "language": "python",
   "name": "python3"
  },
  "language_info": {
   "codemirror_mode": {
    "name": "ipython",
    "version": 3
   },
   "file_extension": ".py",
   "mimetype": "text/x-python",
   "name": "python",
   "nbconvert_exporter": "python",
   "pygments_lexer": "ipython3",
   "version": "3.9.7"
  },
  "orig_nbformat": 4
 },
 "nbformat": 4,
 "nbformat_minor": 2
}
